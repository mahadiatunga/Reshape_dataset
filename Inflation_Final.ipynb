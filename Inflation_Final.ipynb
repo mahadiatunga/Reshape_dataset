{
 "cells": [
  {
   "cell_type": "code",
   "execution_count": 24,
   "metadata": {},
   "outputs": [],
   "source": [
    "import numpy as np\n",
    "import pandas as pd\n"
   ]
  },
  {
   "cell_type": "code",
   "execution_count": 25,
   "metadata": {},
   "outputs": [],
   "source": [
    "df = pd.read_excel(\"C:/Users/Arshad/Documents/Salu/Data_Extract_From_Worldwide_Governance_Indicators_ADDED.xlsx\",\n",
    "                   sheet_name ='G2',\n",
    "                       skipfooter=4)\n",
    "#skiprows=range(10)-->for skipping first 10 rows, not needed here"
   ]
  },
  {
   "cell_type": "code",
   "execution_count": 7,
   "metadata": {},
   "outputs": [],
   "source": [
    "#df2 = pd.melt(df, id_vars=['Country Name','Control of Corruption: Estimate','Government Effectiveness: Estimate','Political Stability and Absence of Violence/Terrorism: Estimate','Regulatory Quality: Estimate','Rule of Law: Estimate','Voice and Accountability: Estimate'],var_name='Year', value_name='value')"
   ]
  },
  {
   "cell_type": "code",
   "execution_count": 33,
   "metadata": {},
   "outputs": [],
   "source": [
    "df2 = pd.melt(df, id_vars=['Country Name','Series Name'],var_name='Year', value_name='value')\n",
    "#df2.to_csv (r'C:/Users/Arshad/Documents/Salu/df_years_series_melt.csv')\n"
   ]
  },
  {
   "cell_type": "code",
   "execution_count": 35,
   "metadata": {},
   "outputs": [],
   "source": [
    "#df3=df2.pivot('Country Name', 'Year', columns='Series Name',values='value' )\n",
    "df3 = df2.pivot_table(index = ['Country Name','Year'], values = 'value',columns = 'Series Name')\n",
    "df3.to_csv (r'C:/Users/Arshad/Documents/Salu/df_years_series_final.csv')"
   ]
  },
  {
   "cell_type": "code",
   "execution_count": null,
   "metadata": {},
   "outputs": [],
   "source": []
  },
  {
   "cell_type": "code",
   "execution_count": null,
   "metadata": {},
   "outputs": [],
   "source": []
  }
 ],
 "metadata": {
  "kernelspec": {
   "display_name": "Python 3",
   "language": "python",
   "name": "python3"
  },
  "language_info": {
   "codemirror_mode": {
    "name": "ipython",
    "version": 3
   },
   "file_extension": ".py",
   "mimetype": "text/x-python",
   "name": "python",
   "nbconvert_exporter": "python",
   "pygments_lexer": "ipython3",
   "version": "3.7.6"
  }
 },
 "nbformat": 4,
 "nbformat_minor": 4
}
